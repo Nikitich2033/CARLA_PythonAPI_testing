{
 "cells": [
  {
   "attachments": {},
   "cell_type": "markdown",
   "metadata": {},
   "source": [
    "All Permutations coverage"
   ]
  },
  {
   "cell_type": "code",
   "execution_count": 1,
   "metadata": {},
   "outputs": [
    {
     "name": "stdout",
     "output_type": "stream",
     "text": [
      "Coverage: 0.87%\n",
      "Number of possible permutations: 11520\n",
      "Percentage of duplicate scenarios: 0.00%\n"
     ]
    }
   ],
   "source": [
    "import itertools\n",
    "import json\n",
    "\n",
    "# Load the scenarios from the JSON file\n",
    "with open('user_input/scenarios.json') as f:\n",
    "    scenarios = json.load(f)\n",
    "\n",
    "# Define the possible values for each variable\n",
    "weather = ['Sunny', 'Rain', 'Thunderstorm']\n",
    "road = ['Highway', 'City', 'Country']\n",
    "vehicle = ['Car', 'Truck']\n",
    "traffic = ['Heavy', 'Light']\n",
    "emergency = ['Yes', 'No']\n",
    "timeOfDay = ['Day', 'Night']\n",
    "location = ['Urban', 'Rural']\n",
    "num_cars = [5, 10, 15, 2, 1]\n",
    "intersection = [True, False]\n",
    "pedestrians = [True, False]\n",
    "pedestrian_cross = [True, False]\n",
    "\n",
    "# Generate all possible permutations of the variables\n",
    "variables = [weather, road, vehicle, traffic, emergency, timeOfDay, location, num_cars, intersection, pedestrians, pedestrian_cross]\n",
    "permutations = list(itertools.product(*variables))\n",
    "\n",
    "# Check how well the scenarios cover the permutations\n",
    "covered_permutations = set()\n",
    "\n",
    "for scenario in scenarios:\n",
    "    # Construct a tuple of the variable values for the scenario\n",
    "    scenario_values = (scenario['weather'], scenario['road'], scenario['vehicle'], scenario['traffic'], scenario['emergency'], scenario['timeOfDay'], scenario['location'], scenario['num_cars'], scenario['intersection'], scenario['pedestrians'], scenario['pedestrian_cross'])\n",
    "    # Add the permutation to the set of covered permutations\n",
    "    covered_permutations.add(scenario_values)\n",
    "\n",
    "# Compute the coverage percentage\n",
    "coverage = len(covered_permutations) / len(permutations) * 100\n",
    "\n",
    "# Print the coverage and number of unique scenarios\n",
    "print(\"Coverage: {:.2f}%\".format(coverage))\n",
    "print(\"Number of possible permutations: {}\".format(len(permutations)))\n",
    "\n",
    "# Check for duplicates\n",
    "hashable_scenarios = set()\n",
    "num_duplicates = 0\n",
    "\n",
    "for scenario in scenarios:\n",
    "    # Convert the scenario to a hashable object\n",
    "    hashable_scenario = tuple(sorted(scenario.items()))\n",
    "    \n",
    "    if hashable_scenario in hashable_scenarios:\n",
    "        num_duplicates += 1\n",
    "    else:\n",
    "        hashable_scenarios.add(hashable_scenario)\n",
    "\n",
    "# Print the percentage of scenarios that are duplicates\n",
    "if len(scenarios) > 0:\n",
    "    duplicate_percentage = num_duplicates / len(scenarios) * 100\n",
    "    print(\"Percentage of duplicate scenarios: {:.2f}%\".format(duplicate_percentage))\n",
    "else:\n",
    "    print(\"No scenarios found.\")"
   ]
  },
  {
   "cell_type": "code",
   "execution_count": 2,
   "metadata": {},
   "outputs": [
    {
     "name": "stdout",
     "output_type": "stream",
     "text": [
      "Coverage: 0.87%\n",
      "Unique scenarios: 100\n",
      "Percentage of duplicates: 0.00%\n"
     ]
    }
   ],
   "source": [
    "import itertools\n",
    "import json\n",
    "\n",
    "# Load the scenarios from the JSON file\n",
    "with open('user_input/scenarios.json') as f:\n",
    "    scenarios = json.load(f)\n",
    "\n",
    "# Define the possible values for each variable\n",
    "weather = ['Sunny', 'Rain', 'Thunderstorm']\n",
    "road = ['Highway', 'City', 'Country']\n",
    "vehicle = ['Car', 'Truck']\n",
    "traffic = ['Heavy', 'Light']\n",
    "emergency = ['Yes', 'No']\n",
    "timeOfDay = ['Day', 'Night']\n",
    "location = ['Urban', 'Rural']\n",
    "num_cars = [5, 10, 15, 2, 1]\n",
    "intersection = [True, False]\n",
    "pedestrians = [True, False]\n",
    "pedestrian_cross = [True, False]\n",
    "\n",
    "# Generate all possible permutations of the variables\n",
    "variables = [weather, road, vehicle, traffic, emergency, timeOfDay, location, num_cars, intersection, pedestrians, pedestrian_cross]\n",
    "permutations = list(itertools.product(*variables))\n",
    "\n",
    "# Check how well the scenarios cover the permutations\n",
    "covered_permutations = set()\n",
    "duplicates = set()\n",
    "\n",
    "for scenario in scenarios:\n",
    "    # Construct a tuple of the variable values for the scenario\n",
    "    scenario_values = (scenario['weather'], scenario['road'], scenario['vehicle'], scenario['traffic'], scenario['emergency'], scenario['timeOfDay'], scenario['location'], scenario['num_cars'], scenario['intersection'], scenario['pedestrians'], scenario['pedestrian_cross'])\n",
    "    if scenario_values in covered_permutations:\n",
    "        duplicates.add(scenario_values)\n",
    "    else:\n",
    "        # Add the permutation to the set of covered permutations\n",
    "        covered_permutations.add(scenario_values)\n",
    "\n",
    "# Compute the coverage percentage\n",
    "coverage = len(covered_permutations) / len(permutations) * 100\n",
    "\n",
    "print(\"Coverage: {:.2f}%\".format(coverage))\n",
    "\n",
    "# Print the number of unique scenarios\n",
    "print(\"Unique scenarios: {}\".format(len(scenarios) - len(duplicates)))\n",
    "\n",
    "# Compute the percentage of duplicate scenarios\n",
    "duplicate_percentage = len(duplicates) / len(scenarios) * 100\n",
    "print(\"Percentage of duplicates: {:.2f}%\".format(duplicate_percentage))\n",
    "\n",
    "# Print out any duplicate scenarios\n",
    "if len(duplicates) > 0:\n",
    "    print(\"Duplicate scenarios:\")\n",
    "    for scenario_values in duplicates:\n",
    "        scenario = {\n",
    "            'weather': scenario_values[0],\n",
    "            'road': scenario_values[1],\n",
    "            'vehicle': scenario_values[2],\n",
    "            'traffic': scenario_values[3],\n",
    "            'emergency': scenario_values[4],\n",
    "            'timeOfDay': scenario_values[5],\n",
    "            'location': scenario_values[6],\n",
    "            'num_cars': scenario_values[7],\n",
    "            'intersection': scenario_values[8],\n",
    "            'pedestrians': scenario_values[9],\n",
    "            'pedestrian_cross': scenario_values[10]\n",
    "        }\n",
    "        print(scenario)\n"
   ]
  },
  {
   "attachments": {},
   "cell_type": "markdown",
   "metadata": {},
   "source": [
    "To plot how combinations of variables were covered,  create a heatmap with the possible values of each variable on the x and y axes, and color each cell based on the number of times that combination of values appears in the scenarios. Use the seaborn library to create the heatmap."
   ]
  },
  {
   "attachments": {},
   "cell_type": "markdown",
   "metadata": {},
   "source": [
    "This code generates a heatmap with the counts of scenarios for each combination of weather and road type. \n",
    "Modify the code to include more variables by adding more columns to the counts dataframe and changing the index and columns arguments in the pd.DataFrame function."
   ]
  },
  {
   "cell_type": "code",
   "execution_count": 3,
   "metadata": {},
   "outputs": [
    {
     "data": {
      "text/plain": [
       "<AxesSubplot: >"
      ]
     },
     "execution_count": 3,
     "metadata": {},
     "output_type": "execute_result"
    },
    {
     "data": {
      "image/png": "[encoded data removed]",
      "text/plain": [
       "<Figure size 640x480 with 2 Axes>"
      ]
     },
     "metadata": {},
     "output_type": "display_data"
    }
   ],
   "source": [
    "import seaborn as sns\n",
    "import pandas as pd\n",
    "\n",
    "# Define the possible values for each variable\n",
    "weather = ['Sunny', 'Rain', 'Thunderstorm']\n",
    "road = ['Highway', 'City', 'Country']\n",
    "vehicle = ['Car', 'Truck']\n",
    "traffic = ['Heavy', 'Light']\n",
    "emergency = ['Yes', 'No']\n",
    "timeOfDay = ['Day', 'Night']\n",
    "location = ['Urban', 'Rural']\n",
    "num_cars = [5, 10, 15, 2, 1]\n",
    "intersection = [True, False]\n",
    "pedestrians = [True, False]\n",
    "pedestrian_cross = [True, False]\n",
    "\n",
    "# Create a dataframe with the count of each combination of variable values\n",
    "counts = pd.DataFrame(0, index=weather, columns=road)\n",
    "for scenario in scenarios:\n",
    "    counts.loc[scenario['weather'], scenario['road']] += 1\n",
    "\n",
    "# Plot the heatmap\n",
    "sns.heatmap(counts, annot=True, cmap=\"YlGnBu\")\n"
   ]
  },
  {
   "attachments": {},
   "cell_type": "markdown",
   "metadata": {},
   "source": [
    "Testing Pymoo"
   ]
  },
  {
   "cell_type": "code",
   "execution_count": 4,
   "metadata": {},
   "outputs": [
    {
     "name": "stderr",
     "output_type": "stream",
     "text": [
      "No artists with labels found to put in legend.  Note that artists whose label start with an underscore are ignored when legend() is called with no argument.\n"
     ]
    },
    {
     "data": {
      "text/plain": [
       "<pymoo.visualization.scatter.Scatter at 0x7fb3355fb430>"
      ]
     },
     "execution_count": 4,
     "metadata": {},
     "output_type": "execute_result"
    },
    {
     "data": {
      "image/png": "[encoded data removed]",
      "text/plain": [
       "<Figure size 800x600 with 1 Axes>"
      ]
     },
     "metadata": {},
     "output_type": "display_data"
    },
    {
     "ename": "",
     "evalue": "",
     "output_type": "error",
     "traceback": [
      "\u001b[1;31mThe Kernel crashed while executing code in the the current cell or a previous cell. Please review the code in the cell(s) to identify a possible cause of the failure. Click <a href='https://aka.ms/vscodeJupyterKernelCrash'>here</a> for more info. View Jupyter <a href='command:jupyter.viewOutput'>log</a> for further details."
     ]
    }
   ],
   "source": [
    "from pymoo.algorithms.moo.nsga2 import NSGA2\n",
    "from pymoo.problems import get_problem\n",
    "from pymoo.optimize import minimize\n",
    "from pymoo.visualization.scatter import Scatter\n",
    "\n",
    "# define the problem\n",
    "problem = get_problem(\"zdt1\")\n",
    "\n",
    "# define the optimization algorithm\n",
    "algorithm = NSGA2()\n",
    "\n",
    "# run the optimization\n",
    "res = minimize(problem,\n",
    "               algorithm,\n",
    "               ('n_gen', 100),\n",
    "               seed=1,\n",
    "               verbose=False)\n",
    "\n",
    "# plot the final Pareto front\n",
    "plot = Scatter(title=\"Pareto Front\", legend=True)\n",
    "plot.add(res.F)\n",
    "plot.show()\n"
   ]
  }
 ],
 "metadata": {
  "kernelspec": {
   "display_name": "Python 3",
   "language": "python",
   "name": "python3"
  },
  "language_info": {
   "codemirror_mode": {
    "name": "ipython",
    "version": 3
   },
   "file_extension": ".py",
   "mimetype": "text/x-python",
   "name": "python",
   "nbconvert_exporter": "python",
   "pygments_lexer": "ipython3",
   "version": "3.8.10"
  },
  "orig_nbformat": 4,
  "vscode": {
   "interpreter": {
    "hash": "916dbcbb3f70747c44a77c7bcd40155683ae19c65e1c03b4aa3499c5328201f1"
   }
  }
 },
 "nbformat": 4,
 "nbformat_minor": 2
}
